{
 "cells": [
  {
   "cell_type": "code",
   "execution_count": 1,
   "metadata": {},
   "outputs": [
    {
     "name": "stdout",
     "output_type": "stream",
     "text": [
      "Yes:801.69%\n",
      "No:198.31%\n"
     ]
    }
   ],
   "source": [
    "import csv\n",
    "\n",
    "with open('survey_results_public.csv') as f:\n",
    "    csv_reader=csv.DictReader(f)\n",
    "    count={\n",
    "        \"Yes\":0,\n",
    "        \"No\":0,\n",
    "    }\n",
    "    for line in csv_reader:\n",
    "        count[line['Hobbyist']]+=1\n",
    "total= count['Yes']+ count['No']\n",
    "yes_per=(count['Yes']/total)*1000\n",
    "yes_per=round(yes_per,2)\n",
    "no_per=(count['No']/total)*1000\n",
    "no_per=round(no_per,2)\n",
    "print(f'Yes:{yes_per}%')     \n",
    "print(f'No:{no_per}%')   "
   ]
  },
  {
   "cell_type": "code",
   "execution_count": null,
   "metadata": {},
   "outputs": [],
   "source": []
  },
  {
   "cell_type": "code",
   "execution_count": null,
   "metadata": {},
   "outputs": [],
   "source": []
  }
 ],
 "metadata": {
  "kernelspec": {
   "display_name": "Python 3",
   "language": "python",
   "name": "python3"
  },
  "language_info": {
   "codemirror_mode": {
    "name": "ipython",
    "version": 3
   },
   "file_extension": ".py",
   "mimetype": "text/x-python",
   "name": "python",
   "nbconvert_exporter": "python",
   "pygments_lexer": "ipython3",
   "version": "3.8.3"
  }
 },
 "nbformat": 4,
 "nbformat_minor": 2
}
